{
  "nbformat": 4,
  "nbformat_minor": 0,
  "metadata": {
    "kernelspec": {
      "display_name": "Python 3",
      "language": "python",
      "name": "python3"
    },
    "language_info": {
      "codemirror_mode": {
        "name": "ipython",
        "version": 3
      },
      "file_extension": ".py",
      "mimetype": "text/x-python",
      "name": "python",
      "nbconvert_exporter": "python",
      "pygments_lexer": "ipython3",
      "version": "3.7.3"
    },
    "colab": {
      "name": "deep_compression_exercise.ipynb",
      "provenance": [],
      "collapsed_sections": []
    }
  },
  "cells": [
    {
      "cell_type": "markdown",
      "metadata": {
        "id": "ZmXO62478UVM",
        "colab_type": "text"
      },
      "source": [
        "# Exercise Week 9: Pruning and Quantization\n",
        "This week, we will explore some of the ideas discussed in Han, Mao, and Dally's Deep Compression.  In particular, we will implement weight pruning with fine tuning, as well as k-means weight quantization.  **Note that we will unfortunately not be doing this in a way that will actually lead to substantial efficiency gains: that would involve the use of sparse matrices which are not currently well-supported in pytorch.** \n",
        "\n",
        "## Training an MNIST classifier\n",
        "For this example, we'll work with a basic multilayer perceptron with a single hidden layer.  We will train it on the MNIST dataset so that it can classify handwritten digits.  As usual we load the data:"
      ]
    },
    {
      "cell_type": "code",
      "metadata": {
        "id": "hZNgnLOf8UVN",
        "colab_type": "code",
        "colab": {}
      },
      "source": [
        "import torch\n",
        "import torchvision.transforms as transforms\n",
        "import torchvision.datasets as datasets\n",
        "import numpy as np\n",
        "from sklearn.cluster import KMeans\n",
        "\n",
        "device = torch.device('cuda' if torch.cuda.is_available() else \"cpu\")\n",
        "\n",
        "train_dataset = datasets.MNIST(root='./data', train=True, transform=transforms.ToTensor(), download=True)\n",
        "test_dataset = datasets.MNIST(root='./data', train=False, transform=transforms.ToTensor())\n",
        "\n",
        "batch_size = 300\n",
        "train_loader = torch.utils.data.DataLoader(dataset=train_dataset, batch_size=batch_size, shuffle=True)\n",
        "test_loader = torch.utils.data.DataLoader(dataset=test_dataset, batch_size=batch_size, shuffle=False)"
      ],
      "execution_count": 0,
      "outputs": []
    },
    {
      "cell_type": "markdown",
      "metadata": {
        "id": "KJ3vZI2f8UVP",
        "colab_type": "text"
      },
      "source": [
        "Then define a model:"
      ]
    },
    {
      "cell_type": "code",
      "metadata": {
        "id": "qHAxHwBl8UVQ",
        "colab_type": "code",
        "colab": {}
      },
      "source": [
        "class MultilayerPerceptron(torch.nn.Module):\n",
        "    def __init__(self, input_dim, hidden_dim, output_dim,mask=None):\n",
        "        super(MultilayerPerceptron, self).__init__()\n",
        "        if not mask:\n",
        "            self.mask = torch.nn.Parameter(torch.ones(input_dim,hidden_dim),requires_grad=False)\n",
        "        else:\n",
        "            self.mask = torch.nn.Parameter(mask)\n",
        "\n",
        "        self.W_0 = torch.nn.Parameter(1e-3*torch.randn(input_dim,hidden_dim)*self.mask,requires_grad=True)\n",
        "        self.b_0 = torch.nn.Parameter(torch.zeros(hidden_dim),requires_grad=True)\n",
        "\n",
        "        self.W_1 = torch.nn.Parameter(1e-3*torch.randn(hidden_dim,output_dim),requires_grad=True)\n",
        "        self.b_1 = torch.nn.Parameter(torch.zeros(output_dim),requires_grad=True)\n",
        "        \n",
        "    def set_mask(self,mask):\n",
        "        \n",
        "        self.mask.data = mask.data\n",
        "        # because we mask in forward I remove mask application here\n",
        "       # self.W_0.data = self.mask.data*self.W_0.data \n",
        "\n",
        "    def forward(self, x):\n",
        "        hidden = torch.tanh(x@(self.W_0*self.mask) + self.b_0)\n",
        "        outputs = hidden@self.W_1 + self.b_1\n",
        "        return outputs\n"
      ],
      "execution_count": 0,
      "outputs": []
    },
    {
      "cell_type": "markdown",
      "metadata": {
        "id": "jysoSeE48UVS",
        "colab_type": "text"
      },
      "source": [
        "Note that the above code is a little bit different than a standard multilayer perceptron implementation.\n",
        "\n",
        "### Q1: What does this model have the capability of doing that a \"Vanilla\" MLP does not.  Why might we want this functionality for studying pruning?\n",
        "\n",
        "**This model has the ability to set a mask upon the W0 weights (allowing us to mimic pruning)**\n",
        "\n",
        "Let's first train this model without utilizing this extra functionality.  You can set the hidden layer size to whatever you'd like when instantiating the model:"
      ]
    },
    {
      "cell_type": "code",
      "metadata": {
        "id": "FgIxTtDw8UVS",
        "colab_type": "code",
        "colab": {}
      },
      "source": [
        "n_epochs = 10\n",
        "\n",
        "input_dim = 784\n",
        "hidden_dim = 64\n",
        "output_dim = 10\n",
        "\n",
        "model = MultilayerPerceptron(input_dim,hidden_dim,output_dim)\n",
        "model = model.to(device)\n",
        "\n",
        "criterion = torch.nn.CrossEntropyLoss() # computes softmax and then the cross entropy\n",
        "lr_rate = 0.001\n",
        "optimizer = torch.optim.Adam(model.parameters(), lr=lr_rate, weight_decay=1e-3)"
      ],
      "execution_count": 0,
      "outputs": []
    },
    {
      "cell_type": "markdown",
      "metadata": {
        "id": "7qAYg-CK8UVV",
        "colab_type": "text"
      },
      "source": [
        "And then training proceeds as normal."
      ]
    },
    {
      "cell_type": "code",
      "metadata": {
        "id": "gyq2nTkN8UVV",
        "colab_type": "code",
        "colab": {
          "base_uri": "https://localhost:8080/",
          "height": 34
        },
        "outputId": "bb953863-16a2-4af0-98cf-5770f966392d"
      },
      "source": [
        "iter = 0\n",
        "for epoch in range(1):\n",
        "    for i, (images, labels) in enumerate(train_loader):\n",
        "        images = images.view(-1, 28 * 28).to(device)\n",
        "        labels = labels.to(device)\n",
        "\n",
        "        optimizer.zero_grad()\n",
        "        outputs = model(images)\n",
        "        loss = criterion(outputs, labels)\n",
        "        loss.backward()\n",
        "        optimizer.step()\n",
        "\n",
        "    # calculate Accuracy\n",
        "    correct = 0\n",
        "    total = 0\n",
        "    for images, labels in test_loader:\n",
        "        images = images.view(-1, 28*28).to(device)\n",
        "        labels = labels.to(device)\n",
        "        outputs = model(images)\n",
        "        _, predicted = torch.max(outputs.data, 1)\n",
        "        total+= labels.size(0)\n",
        "                # for gpu, bring the predicted and labels back to cpu fro python operations to work\n",
        "        correct+= (predicted == labels).sum()\n",
        "    accuracy = 100 * correct/total\n",
        "    print(\"Iteration: {}. Loss: {}. Accuracy: {}.\".format(epoch, loss.item(), accuracy))\n",
        "torch.save(model.state_dict(),'mnist_pretrained.h5')\n"
      ],
      "execution_count": 111,
      "outputs": [
        {
          "output_type": "stream",
          "text": [
            "Iteration: 0. Loss: 0.394271582365036. Accuracy: 90.\n"
          ],
          "name": "stdout"
        }
      ]
    },
    {
      "cell_type": "markdown",
      "metadata": {
        "id": "d6Y8ikzI8UVX",
        "colab_type": "text"
      },
      "source": [
        "## Pruning\n",
        "\n",
        "Certainly not a state of the art model, but also not a terrible one.  Because we're hoping to do some weight pruning, let's inspect some of the weights directly (recall that we can act like they're images)"
      ]
    },
    {
      "cell_type": "code",
      "metadata": {
        "id": "3SMoelcN8UVX",
        "colab_type": "code",
        "colab": {
          "base_uri": "https://localhost:8080/",
          "height": 265
        },
        "outputId": "5438f802-d9d6-440a-8ddd-ff497a7131f3"
      },
      "source": [
        "import matplotlib.pyplot as plt\n",
        "W_0 = model.W_0.detach().cpu().numpy()\n",
        "plt.imshow(W_0[:,1].reshape((28,28)))\n",
        "plt.show()"
      ],
      "execution_count": 112,
      "outputs": [
        {
          "output_type": "display_data",
          "data": {
            "image/png": "[encoded data removed]",
            "text/plain": [
              "<Figure size 432x288 with 1 Axes>"
            ]
          },
          "metadata": {
            "tags": []
          }
        }
      ]
    },
    {
      "cell_type": "markdown",
      "metadata": {
        "id": "_ynjJ1pn8UVZ",
        "colab_type": "text"
      },
      "source": [
        "\n",
        "### Q2: Based on the above image, what weights might reasonably be pruned (i.e. explicitly forced to be zero)?\n",
        "**Weights towards the edges of the matrix (which are close to zero)should be pruned**\n",
        "\n",
        "### Q3: Implement some means of establishing a threshold for the (absolute value of the) weights, below which they are set to zero.  Using this method, create a mask array.     "
      ]
    },
    {
      "cell_type": "code",
      "metadata": {
        "id": "aLUOfxTH8UVa",
        "colab_type": "code",
        "colab": {
          "base_uri": "https://localhost:8080/",
          "height": 34
        },
        "outputId": "596a0994-01e3-4589-cdd6-2a60e0836e27"
      },
      "source": [
        "thr = 0.1\n",
        "new_mask = model.mask\n",
        "\n",
        "\n",
        "masked = 0\n",
        "for x in range(input_dim):\n",
        "  for y in range(hidden_dim):\n",
        "    if abs(model.W_0[x,y]) < thr:\n",
        "      new_mask[x,y] = 0\n",
        "      masked += 1\n",
        "    else:\n",
        "      new_mask[x,y] = 1\n",
        "\n",
        "print(\"Weights masked: \", masked / (input_dim * hidden_dim))"
      ],
      "execution_count": 115,
      "outputs": [
        {
          "output_type": "stream",
          "text": [
            "Weights masked:  0.9597417091836735\n"
          ],
          "name": "stdout"
        }
      ]
    },
    {
      "cell_type": "markdown",
      "metadata": {
        "id": "LrWAQY1o8UVc",
        "colab_type": "text"
      },
      "source": [
        "Now that we have a mask that explicitly establishes a sparsity pattern for our model, let's update our model with this mask:"
      ]
    },
    {
      "cell_type": "code",
      "metadata": {
        "id": "UGHA6nJ08UVc",
        "colab_type": "code",
        "colab": {}
      },
      "source": [
        "model.set_mask(new_mask)"
      ],
      "execution_count": 0,
      "outputs": []
    },
    {
      "cell_type": "markdown",
      "metadata": {
        "id": "EBm7YniX8UVe",
        "colab_type": "text"
      },
      "source": [
        "Now, we have explicitly set some entries in one of the the weight matrices to zero, and ensured via the mask, that they will not be updated by gradient descent.  Fine tune the model: "
      ]
    },
    {
      "cell_type": "code",
      "metadata": {
        "id": "kvx25tGX8UVe",
        "colab_type": "code",
        "colab": {
          "base_uri": "https://localhost:8080/",
          "height": 187
        },
        "outputId": "258d746a-621b-4050-90fa-4163a900da4b"
      },
      "source": [
        "iter = 0\n",
        "for epoch in range(n_epochs):\n",
        "    for i, (images, labels) in enumerate(train_loader):\n",
        "        images = images.view(-1, 28 * 28).to(device)\n",
        "        labels = labels.to(device)\n",
        "\n",
        "        optimizer.zero_grad()\n",
        "        outputs = model(images)\n",
        "        loss = criterion(outputs, labels)\n",
        "        loss.backward()\n",
        "        optimizer.step()\n",
        "\n",
        "    # calculate Accuracy\n",
        "    correct = 0\n",
        "    total = 0\n",
        "    for images, labels in test_loader:\n",
        "        images = images.view(-1, 28*28).to(device)\n",
        "        labels = labels.to(device)\n",
        "        outputs = model(images)\n",
        "        _, predicted = torch.max(outputs.data, 1)\n",
        "        total+= labels.size(0)\n",
        "                # for gpu, bring the predicted and labels back to cpu fro python operations to work\n",
        "        correct+= (predicted == labels).sum()\n",
        "    accuracy = 100 * correct/total\n",
        "    print(\"Iteration: {}. Loss: {}. Accuracy: {}.\".format(iter, loss.item(), accuracy))\n",
        "torch.save(model.state_dict(),'mnist_pruned.h5')"
      ],
      "execution_count": 117,
      "outputs": [
        {
          "output_type": "stream",
          "text": [
            "Iteration: 0. Loss: 0.442738801240921. Accuracy: 87.\n",
            "Iteration: 0. Loss: 0.38340750336647034. Accuracy: 88.\n",
            "Iteration: 0. Loss: 0.36054039001464844. Accuracy: 89.\n",
            "Iteration: 0. Loss: 0.35190919041633606. Accuracy: 90.\n",
            "Iteration: 0. Loss: 0.4060134291648865. Accuracy: 90.\n",
            "Iteration: 0. Loss: 0.2582990825176239. Accuracy: 91.\n",
            "Iteration: 0. Loss: 0.3626810312271118. Accuracy: 91.\n",
            "Iteration: 0. Loss: 0.3514588177204132. Accuracy: 91.\n",
            "Iteration: 0. Loss: 0.30394095182418823. Accuracy: 91.\n",
            "Iteration: 0. Loss: 0.2780837118625641. Accuracy: 91.\n"
          ],
          "name": "stdout"
        }
      ]
    },
    {
      "cell_type": "markdown",
      "metadata": {
        "id": "FFMWkID88UVg",
        "colab_type": "text"
      },
      "source": [
        "### Q4: How much accuracy did you lose by pruning the model?  How much \"compression\" did you achieve (here defined as total entries in W_0 divided by number of non-zero entries)? \n",
        "\n",
        "**I lost 0% accuracy while reducing the number of W_0 weights by 81% using a threshold of 0.05**\n",
        "\n",
        "### Q5: Explore a few different thresholds: approximately how many weights can you prune before accuracy starts to degrade?\n",
        "\n",
        "**Using a threshold of 0.1 yielded a 96% accuracy with 94% W_0 reduction.**\n",
        "\n",
        "**Using a threshold of 0.2 showed a 95% accuracy, with a 98% W_0 reduction.**\n",
        "\n",
        "**Using a threshold of 0.4 showed a 93% accuracy, but with a tremendous 99.5% W_0 reduction.**\n"
      ]
    },
    {
      "cell_type": "code",
      "metadata": {
        "id": "WGE1NTQ18UVg",
        "colab_type": "code",
        "colab": {
          "base_uri": "https://localhost:8080/",
          "height": 265
        },
        "outputId": "1826b421-1615-46a0-bed0-ec8fca5b0023"
      },
      "source": [
        "W_0 = model.W_0.detach().cpu().numpy()\n",
        "plt.imshow(W_0[:,1].reshape((28,28)))\n",
        "plt.show()"
      ],
      "execution_count": 118,
      "outputs": [
        {
          "output_type": "display_data",
          "data": {
            "image/png": "[encoded data removed]",
            "text/plain": [
              "<Figure size 432x288 with 1 Axes>"
            ]
          },
          "metadata": {
            "tags": []
          }
        }
      ]
    },
    {
      "cell_type": "markdown",
      "metadata": {
        "id": "PvqYFjCk8UVi",
        "colab_type": "text"
      },
      "source": [
        "## Quantization\n",
        "\n",
        "Now that we have a pruned model that appears to be performing well, let's see if we can make it even smaller by quantization.  To do this, we'll need a slightly different neural network, one that corresponds to Figure 3 from the paper.  Instead of having a matrix of float values, we'll have a matrix of integer labels (here called \"labels\") that correspond to entries in a (hopefully) small codebook of centroids (here called \"centroids\").  The way that I've coded it, there's still a mask that enforces our desired sparsity pattern."
      ]
    },
    {
      "cell_type": "code",
      "metadata": {
        "id": "OsgK0PQC8UVj",
        "colab_type": "code",
        "colab": {}
      },
      "source": [
        "class MultilayerPerceptronQuantized(torch.nn.Module):\n",
        "    def __init__(self, input_dim, output_dim, hidden_dim,mask,labels,centroids):\n",
        "        super(MultilayerPerceptronQuantized, self).__init__()\n",
        "        self.mask = torch.nn.Parameter(mask,requires_grad=False)\n",
        "        self.labels = torch.nn.Parameter(labels,requires_grad=False)\n",
        "        self.centroids = torch.nn.Parameter(centroids,requires_grad=True)\n",
        "\n",
        "        self.b_0 = torch.nn.Parameter(torch.zeros(hidden_dim))\n",
        "\n",
        "        self.W_1 = torch.nn.Parameter(1e-3*torch.randn(hidden_dim,output_dim))\n",
        "        self.b_1 = torch.nn.Parameter(torch.zeros(output_dim))\n",
        "\n",
        "    def forward(self, x):\n",
        "        W_0 = self.mask*self.centroids[self.labels]\n",
        "        hidden = torch.tanh(x@W_0 + self.b_0)\n",
        "        outputs = hidden@self.W_1 + self.b_1\n",
        "        return outputs"
      ],
      "execution_count": 0,
      "outputs": []
    },
    {
      "cell_type": "markdown",
      "metadata": {
        "id": "I0slgTLZ8UVm",
        "colab_type": "text"
      },
      "source": [
        "Notice what is happening in the forward method: W_0 is being reconstructed by using a matrix (self.labels) to index into a vector (self.centroids).  The beauty of automatic differentiation allows backpropogation through this sort of weird indexing operation, and thus gives us gradients of the objective function with respect to the centroid values!\n",
        "\n",
        "### Q6: However, before we are able to use this AD magic, we need to specify the static label matrix (and an initial guess for centroids).  Use the k-means algorithm (or something else if you prefer) figure out the label matrix and centroid vectors.  PROTIP1: I used scikit-learns implementation of k-means.  PROTIP2: only cluster the non-zero entries"
      ]
    },
    {
      "cell_type": "code",
      "metadata": {
        "id": "cGsnj6NC8UVn",
        "colab_type": "code",
        "colab": {
          "base_uri": "https://localhost:8080/",
          "height": 51
        },
        "outputId": "897e32c7-ea17-41b7-cd1c-5893ac7b20f9"
      },
      "source": [
        "\n",
        "# convert weight and mask matrices into numpy arrays\n",
        "W_0 = model.W_0.detach().cpu().numpy()\n",
        "mask = model.mask.detach().cpu().numpy()\n",
        "\n",
        "print(W_0.shape)\n",
        "\n",
        "# Figure out the indices of non-zero entries \n",
        "inds = np.where(mask!=0)\n",
        "# Figure out the values of non-zero entries\n",
        "vals = np.expand_dims(W_0[inds], 1)\n",
        "\n",
        "### TODO: perform clustering on vals\n",
        "\n",
        "kmeans = KMeans(n_clusters=2).fit(vals)\n",
        "print(kmeans.labels_)\n",
        "\n",
        "### TODO: turn the label matrix and centroids into a torch tensor\n",
        "\n",
        "np_labels = np.zeros_like(W_0)\n",
        "np_labels[inds] = kmeans.labels_\n",
        "\n",
        "labels = torch.tensor(np_labels, dtype=torch.long,device=device).squeeze()\n",
        "centroids = torch.tensor(kmeans.cluster_centers_,device=device).squeeze()"
      ],
      "execution_count": 119,
      "outputs": [
        {
          "output_type": "stream",
          "text": [
            "(784, 64)\n",
            "[0 1 1 ... 1 0 1]\n"
          ],
          "name": "stdout"
        }
      ]
    },
    {
      "cell_type": "markdown",
      "metadata": {
        "id": "_-dc91iy8UVp",
        "colab_type": "text"
      },
      "source": [
        "Now, we can instantiate our quantized model and import the appropriate pre-trained weights for the other network layers.  "
      ]
    },
    {
      "cell_type": "code",
      "metadata": {
        "id": "tenymCJP8UVp",
        "colab_type": "code",
        "colab": {}
      },
      "source": [
        "# Instantiate quantized model\n",
        "model_q = MultilayerPerceptronQuantized(input_dim,output_dim,hidden_dim,new_mask,labels,centroids)\n",
        "model_q = model_q.to(device)\n",
        "\n",
        "# Copy pre-trained weights from unquantized model for non-quantized layers\n",
        "model_q.b_0.data = model.b_0.data\n",
        "model_q.W_1.data = model.W_1.data\n",
        "model_q.b_1.data = model.b_1.data"
      ],
      "execution_count": 0,
      "outputs": []
    },
    {
      "cell_type": "markdown",
      "metadata": {
        "id": "WT-6bR4e8UVr",
        "colab_type": "text"
      },
      "source": [
        "Finally, we can fine tune the quantized model.  We'll adjust not only the centroids, but also the weights in the other layers."
      ]
    },
    {
      "cell_type": "code",
      "metadata": {
        "id": "ybVDdttS8UVr",
        "colab_type": "code",
        "colab": {
          "base_uri": "https://localhost:8080/",
          "height": 187
        },
        "outputId": "02737d27-3b23-4ed3-d394-b9c632eda795"
      },
      "source": [
        "optimizer = torch.optim.Adam(model_q.parameters(), lr=lr_rate, weight_decay=1e-3)\n",
        "iter = 0\n",
        "for epoch in range(n_epochs):\n",
        "    for i, (images, labels) in enumerate(train_loader):\n",
        "        images = images.view(-1, 28 * 28).to(device)\n",
        "        labels = labels.to(device)\n",
        "\n",
        "        optimizer.zero_grad()\n",
        "        outputs = model_q(images)\n",
        "        loss = criterion(outputs, labels)\n",
        "        loss.backward()\n",
        "        optimizer.step()\n",
        "\n",
        "    # calculate Accuracy\n",
        "    correct = 0\n",
        "    total = 0\n",
        "    for images, labels in test_loader:\n",
        "        images = images.view(-1, 28*28).to(device)\n",
        "        labels = labels.to(device)\n",
        "        outputs = model_q(images)\n",
        "        _, predicted = torch.max(outputs.data, 1)\n",
        "        total+= labels.size(0)\n",
        "                # for gpu, bring the predicted and labels back to cpu fro python operations to work\n",
        "        correct+= (predicted == labels).sum()\n",
        "    accuracy = 100 * correct/total\n",
        "    print(\"Iteration: {}. Loss: {}. Accuracy: {}.\".format(iter, loss.item(), accuracy))\n",
        "torch.save(model.state_dict(),'mnist_quantized.h5')"
      ],
      "execution_count": 121,
      "outputs": [
        {
          "output_type": "stream",
          "text": [
            "Iteration: 0. Loss: 0.3731350302696228. Accuracy: 89.\n",
            "Iteration: 0. Loss: 0.3511162996292114. Accuracy: 89.\n",
            "Iteration: 0. Loss: 0.28218451142311096. Accuracy: 90.\n",
            "Iteration: 0. Loss: 0.28237056732177734. Accuracy: 90.\n",
            "Iteration: 0. Loss: 0.29598158597946167. Accuracy: 90.\n",
            "Iteration: 0. Loss: 0.35865646600723267. Accuracy: 90.\n",
            "Iteration: 0. Loss: 0.31600067019462585. Accuracy: 90.\n",
            "Iteration: 0. Loss: 0.32274532318115234. Accuracy: 90.\n",
            "Iteration: 0. Loss: 0.35665827989578247. Accuracy: 90.\n",
            "Iteration: 0. Loss: 0.2802092730998993. Accuracy: 90.\n"
          ],
          "name": "stdout"
        }
      ]
    },
    {
      "cell_type": "markdown",
      "metadata": {
        "id": "mXVNJAud8UVu",
        "colab_type": "text"
      },
      "source": [
        "After retraining, we can, just for fun, reconstruct the pruned and quantized weights and plot them as images:"
      ]
    },
    {
      "cell_type": "code",
      "metadata": {
        "id": "mOKcbaD88UVv",
        "colab_type": "code",
        "colab": {
          "base_uri": "https://localhost:8080/",
          "height": 265
        },
        "outputId": "33e59968-2598-45e8-c7ab-8e5e8267ef9b"
      },
      "source": [
        "W_0 = (model_q.mask*model_q.centroids[model_q.labels]).detach().cpu().numpy()\n",
        "plt.imshow(W_0[:,1].reshape((28,28)))\n",
        "plt.show()"
      ],
      "execution_count": 122,
      "outputs": [
        {
          "output_type": "display_data",
          "data": {
            "image/png": "[encoded data removed]",
            "text/plain": [
              "<Figure size 432x288 with 1 Axes>"
            ]
          },
          "metadata": {
            "tags": []
          }
        }
      ]
    },
    {
      "cell_type": "markdown",
      "metadata": {
        "id": "8aDLxBKB8UVx",
        "colab_type": "text"
      },
      "source": [
        "Certainly a much more parsimonious representation.  The obvious question now becomes:\n",
        "\n",
        "### Q7: How low can you go?  How small can the centroid codebook be before we see a substantial degradation in test set accuracy?\n",
        "\n",
        "**Using 16 centroids I got up to 94% accuracy**\n",
        "\n",
        "**Using 8 centroids I got up to 94% accuracy**\n",
        "\n",
        "**Using 4 centroids I got up to 94% accuracy**\n",
        "\n",
        "**Using 2 centroids I got up to 93% accuracy**\n",
        "\n",
        "\n",
        "### Bonus question: Try establishing the sparsity pattern using a model that's only been trained for a single epoch, then fine tune the pruned model and quantize as normal.  How does this compare to pruning a model that has been fully trained?  \n",
        "\n",
        "**Intial accuracy after 1 epoch was 90%. The threshold needed to be set much lower to not mask the entire network (threshold 0.1 with 96% pruning). Training the pruned network brough accurracy to 91%. There are fewer large weights, and I suspect some weights that should be large may be small by random chance, leading to a lower overall accuracy. The nonpruned weights are on the edges of where numbers should be (as opposed to in the middle of where numbers should be which was where the nonpruned weights used to be). Using 2 centroids brought the accuracy down to 90%**"
      ]
    },
    {
      "cell_type": "code",
      "metadata": {
        "id": "1zt8RJMx8UVy",
        "colab_type": "code",
        "colab": {}
      },
      "source": [
        ""
      ],
      "execution_count": 0,
      "outputs": []
    }
  ]
}